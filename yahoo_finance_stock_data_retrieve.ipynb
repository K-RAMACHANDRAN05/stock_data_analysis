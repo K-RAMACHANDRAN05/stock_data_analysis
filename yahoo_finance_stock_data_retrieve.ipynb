{
  "nbformat": 4,
  "nbformat_minor": 0,
  "metadata": {
    "colab": {
      "provenance": [],
      "authorship_tag": "ABX9TyMFLq1z3waud1qTOv3sv8Cu",
      "include_colab_link": true
    },
    "kernelspec": {
      "name": "python3",
      "display_name": "Python 3"
    },
    "language_info": {
      "name": "python"
    }
  },
  "cells": [
    {
      "cell_type": "markdown",
      "metadata": {
        "id": "view-in-github",
        "colab_type": "text"
      },
      "source": [
        "<a href=\"https://colab.research.google.com/github/K-RAMACHANDRAN05/stock_data_analysis/blob/main/yahoo_finance_stock_data_retrieve.ipynb\" target=\"_parent\"><img src=\"https://colab.research.google.com/assets/colab-badge.svg\" alt=\"Open In Colab\"/></a>"
      ]
    },
    {
      "cell_type": "code",
      "source": [
        "#this code was copied from quantpy youtube channel after making changes according to the changes made in the \" pandas_datareader \" library."
      ],
      "metadata": {
        "id": "1qYsIJ8w6riv"
      },
      "execution_count": null,
      "outputs": []
    },
    {
      "cell_type": "code",
      "execution_count": 45,
      "metadata": {
        "colab": {
          "base_uri": "https://localhost:8080/"
        },
        "id": "VmozO--mKuLt",
        "outputId": "7e291d2b-736c-4bf3-fe0d-49dc06f1e82b"
      },
      "outputs": [
        {
          "output_type": "stream",
          "name": "stdout",
          "text": [
            "[*********************100%%**********************]  6 of 6 completed\n",
            "BHP.AX    0.000739\n",
            "CBA.AX   -0.000061\n",
            "NAB.AX   -0.000404\n",
            "STO.AX    0.000309\n",
            "TLS.AX    0.000157\n",
            "WBC.AX   -0.000330\n",
            "dtype: float64\n"
          ]
        }
      ],
      "source": [
        "import pandas as pd\n",
        "import numpy as np\n",
        "import matplotlib.pyplot as plt\n",
        "import yfinance as yf\n",
        "yf.pdr_override()\n",
        "from datetime import datetime,timedelta\n",
        "from pandas_datareader import data as pdr\n",
        "\n",
        "# import data\n",
        "def get_data(stocks, start, end):\n",
        "    stockData = pdr.get_data_yahoo(stocks, start, end)\n",
        "    stockData = stockData['Close']\n",
        "    returns = stockData.pct_change()\n",
        "    meanReturns = returns.mean()\n",
        "    covMatrix = returns.cov()\n",
        "    return meanReturns, covMatrix\n",
        "\n",
        "stockList = ['CBA', 'BHP', 'TLS', 'NAB', 'WBC', 'STO']\n",
        "stocks = [stock + '.AX' for stock in stockList]\n",
        "endDate = datetime.now()\n",
        "startDate = endDate - timedelta(days=300)\n",
        "\n",
        "meanReturns, covMatrix = get_data(stocks, startDate, endDate)\n",
        "\n",
        "'''weights = np.random.random(len(meanReturns))\n",
        "weights /= np.sum(weights)'''\n",
        "print(meanReturns)"
      ]
    },
    {
      "cell_type": "code",
      "source": [
        "#this is a sample code showing how data in retrieved using yahoo finance taking into account the older bugs. it is apt for the date 2023-9-4(yyyy-mm-dd). all further data retieval tasks from yahoo finance will follow the below mentioned code sample(exactly)."
      ],
      "metadata": {
        "id": "AF4Qq9tm6u46"
      },
      "execution_count": null,
      "outputs": []
    },
    {
      "cell_type": "code",
      "source": [
        "\n",
        "import pandas as pd\n",
        "import numpy as np\n",
        "import matplotlib.pyplot as plt\n",
        "import pandas_datareader.data as pdr\n",
        "import yfinance as yf\n",
        "yf.pdr_override()\n",
        "from datetime import datetime\n",
        "data = pdr.get_data_yahoo('CBA.AX', start=datetime(2017, 1, 1), end=datetime(2017, 8, 6))\n",
        "print(data)\n",
        "\n",
        "'''stockData = pdr.get_data_yahoo('CBA.AX', start=\"2017-08-13\", end=\"2017-08-14\")'''"
      ],
      "metadata": {
        "colab": {
          "base_uri": "https://localhost:8080/",
          "height": 313
        },
        "id": "WEG2-o08QzpI",
        "outputId": "5318b507-7148-490e-d59c-07c60bf2a5ce"
      },
      "execution_count": 37,
      "outputs": [
        {
          "output_type": "stream",
          "name": "stdout",
          "text": [
            "\r[*********************100%%**********************]  1 of 1 completed\n",
            "                 Open       High        Low      Close  Adj Close   Volume\n",
            "Date                                                                      \n",
            "2017-01-03  82.400002  83.160004  82.309998  82.970001  60.041275  1967692\n",
            "2017-01-04  83.500000  83.760002  83.199997  83.610001  60.504395  2086820\n",
            "2017-01-05  83.989998  84.120003  83.589996  83.849998  60.678078  2049692\n",
            "2017-01-06  83.980003  84.180000  83.620003  84.129997  60.880718  2648142\n",
            "2017-01-09  84.279999  85.650002  84.175003  85.260002  61.698433  2742640\n",
            "...               ...        ...        ...        ...        ...      ...\n",
            "2017-07-31  83.989998  84.279999  83.500000  83.730003  62.027534  2217082\n",
            "2017-08-01  83.919998  84.684998  83.919998  84.540001  62.627586  3191137\n",
            "2017-08-02  84.800003  84.900002  83.980003  84.230003  62.397934  1636016\n",
            "2017-08-03  84.089996  84.690002  83.779999  83.970001  62.205330  2372029\n",
            "2017-08-04  82.510002  82.650002  80.570000  80.720001  59.797710  9239819\n",
            "\n",
            "[149 rows x 6 columns]\n"
          ]
        },
        {
          "output_type": "execute_result",
          "data": {
            "text/plain": [
              "'stockData = pdr.get_data_yahoo(\\'CBA.AX\\', start=\"2017-08-13\", end=\"2017-08-14\")'"
            ],
            "application/vnd.google.colaboratory.intrinsic+json": {
              "type": "string"
            }
          },
          "metadata": {},
          "execution_count": 37
        }
      ]
    },
    {
      "cell_type": "code",
      "source": [
        "!pip install pandas-datareader"
      ],
      "metadata": {
        "colab": {
          "base_uri": "https://localhost:8080/"
        },
        "id": "wvUsYNIcUEDO",
        "outputId": "8947a2fa-64d9-4f13-c61c-185b7bd1c88c"
      },
      "execution_count": 9,
      "outputs": [
        {
          "output_type": "stream",
          "name": "stdout",
          "text": [
            "Requirement already satisfied: pandas-datareader in /usr/local/lib/python3.10/dist-packages (0.10.0)\n",
            "Requirement already satisfied: lxml in /usr/local/lib/python3.10/dist-packages (from pandas-datareader) (4.9.3)\n",
            "Requirement already satisfied: pandas>=0.23 in /usr/local/lib/python3.10/dist-packages (from pandas-datareader) (1.5.3)\n",
            "Requirement already satisfied: requests>=2.19.0 in /usr/local/lib/python3.10/dist-packages (from pandas-datareader) (2.31.0)\n",
            "Requirement already satisfied: python-dateutil>=2.8.1 in /usr/local/lib/python3.10/dist-packages (from pandas>=0.23->pandas-datareader) (2.8.2)\n",
            "Requirement already satisfied: pytz>=2020.1 in /usr/local/lib/python3.10/dist-packages (from pandas>=0.23->pandas-datareader) (2023.3)\n",
            "Requirement already satisfied: numpy>=1.21.0 in /usr/local/lib/python3.10/dist-packages (from pandas>=0.23->pandas-datareader) (1.23.5)\n",
            "Requirement already satisfied: charset-normalizer<4,>=2 in /usr/local/lib/python3.10/dist-packages (from requests>=2.19.0->pandas-datareader) (3.2.0)\n",
            "Requirement already satisfied: idna<4,>=2.5 in /usr/local/lib/python3.10/dist-packages (from requests>=2.19.0->pandas-datareader) (3.4)\n",
            "Requirement already satisfied: urllib3<3,>=1.21.1 in /usr/local/lib/python3.10/dist-packages (from requests>=2.19.0->pandas-datareader) (2.0.4)\n",
            "Requirement already satisfied: certifi>=2017.4.17 in /usr/local/lib/python3.10/dist-packages (from requests>=2.19.0->pandas-datareader) (2023.7.22)\n",
            "Requirement already satisfied: six>=1.5 in /usr/local/lib/python3.10/dist-packages (from python-dateutil>=2.8.1->pandas>=0.23->pandas-datareader) (1.16.0)\n"
          ]
        }
      ]
    },
    {
      "cell_type": "code",
      "source": [
        "#this is a sample code showing how data in retrieved using yahoo finance taking into account the older bugs. it is apt for the date 2023-9-4(yyyy-mm-dd). all further data retieval tasks from yahoo finance will follow the below mentioned code sample(exactly)."
      ],
      "metadata": {
        "id": "3c0Uenw124gH"
      },
      "execution_count": null,
      "outputs": []
    },
    {
      "cell_type": "code",
      "source": [
        "import pandas_datareader.data as pdr\n",
        "import yfinance as yf\n",
        "yf.pdr_override()\n",
        "from datetime import datetime\n",
        "data = pdr.get_data_yahoo('CBA.AX', datetime(2017, 1, 1))\n",
        "print(data)"
      ],
      "metadata": {
        "colab": {
          "base_uri": "https://localhost:8080/"
        },
        "id": "Fwv_jFc_UELp",
        "outputId": "c8a84e75-661c-46d5-b0b6-f1d464682edb"
      },
      "execution_count": 46,
      "outputs": [
        {
          "output_type": "stream",
          "name": "stdout",
          "text": [
            "\r[*********************100%%**********************]  1 of 1 completed\n",
            "                  Open        High         Low       Close   Adj Close  \\\n",
            "Date                                                                     \n",
            "2017-01-03   82.400002   83.160004   82.309998   82.970001   60.041271   \n",
            "2017-01-04   83.500000   83.760002   83.199997   83.610001   60.504410   \n",
            "2017-01-05   83.989998   84.120003   83.589996   83.849998   60.678078   \n",
            "2017-01-06   83.980003   84.180000   83.620003   84.129997   60.880699   \n",
            "2017-01-09   84.279999   85.650002   84.175003   85.260002   61.698437   \n",
            "...                ...         ...         ...         ...         ...   \n",
            "2023-08-29  101.389999  101.449997  100.480003  101.029999  101.029999   \n",
            "2023-08-30  101.629997  102.464996  101.500000  101.839996  101.839996   \n",
            "2023-08-31  101.830002  102.449997  101.610001  102.180000  102.180000   \n",
            "2023-09-01  101.699997  102.000000  101.199997  101.349998  101.349998   \n",
            "2023-09-04  101.690002  102.269997  101.570000  102.010002  102.010002   \n",
            "\n",
            "             Volume  \n",
            "Date                 \n",
            "2017-01-03  1967692  \n",
            "2017-01-04  2086820  \n",
            "2017-01-05  2049692  \n",
            "2017-01-06  2648142  \n",
            "2017-01-09  2742640  \n",
            "...             ...  \n",
            "2023-08-29  1519428  \n",
            "2023-08-30  1810483  \n",
            "2023-08-31  3576801  \n",
            "2023-09-01  1596631  \n",
            "2023-09-04  1425483  \n",
            "\n",
            "[1688 rows x 6 columns]\n"
          ]
        }
      ]
    },
    {
      "cell_type": "code",
      "source": [],
      "metadata": {
        "id": "TpJafOeWbCZ8"
      },
      "execution_count": 46,
      "outputs": []
    },
    {
      "cell_type": "code",
      "source": [],
      "metadata": {
        "id": "TGwmrIuAbCcM"
      },
      "execution_count": 46,
      "outputs": []
    },
    {
      "cell_type": "code",
      "source": [],
      "metadata": {
        "id": "9n6lkhUXbCe5"
      },
      "execution_count": null,
      "outputs": []
    },
    {
      "cell_type": "code",
      "source": [],
      "metadata": {
        "id": "VUqoQarnbCiK"
      },
      "execution_count": null,
      "outputs": []
    }
  ]
}